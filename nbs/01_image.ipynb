{
 "cells": [
  {
   "cell_type": "code",
   "execution_count": null,
   "metadata": {},
   "outputs": [],
   "source": [
    "# default_exp image"
   ]
  },
  {
   "cell_type": "markdown",
   "metadata": {},
   "source": [
    "# image\n",
    "\n",
    "> API details.\n",
    "\n",
    "1. resize\n",
    "2. rotate\n",
    "3. crop"
   ]
  },
  {
   "cell_type": "code",
   "execution_count": null,
   "metadata": {},
   "outputs": [],
   "source": [
    "# hide\n",
    "from nbdev.showdoc import *"
   ]
  },
  {
   "cell_type": "code",
   "execution_count": null,
   "metadata": {},
   "outputs": [],
   "source": [
    "# export\n",
    "import os\n",
    "from io import BytesIO\n",
    "from typing import Union\n",
    "\n",
    "import matplotlib.pyplot as plt\n",
    "import numpy as np\n",
    "import requests\n",
    "from PIL import Image\n",
    "\n",
    "from chitra.utility.import_utils import INSTALLED_MODULES, _TF, _TORCH\n",
    "\n",
    "tf = None\n",
    "torch = None\n",
    "\n",
    "if INSTALLED_MODULES.get(_TF, None):\n",
    "    import tensorflow as tf\n",
    "    \n",
    "if INSTALLED_MODULES.get(_TORCH, None):\n",
    "    import torch"
   ]
  },
  {
   "cell_type": "code",
   "execution_count": null,
   "metadata": {},
   "outputs": [],
   "source": [
    "# export\n",
    "from typing import List, Union, Optional\n",
    "\n",
    "DATA_FORMATS = Union[str, Image.Image, np.ndarray, tf.Tensor, torch.Tensor]\n",
    "DEFAULT_MODE = os.environ.get(\"CHITRA_DEFAULT_MODE\", \"TF\")\n",
    "\n",
    "from imgaug.augmentables.bbs import BoundingBox, BoundingBoxesOnImage"
   ]
  },
  {
   "cell_type": "code",
   "execution_count": null,
   "metadata": {},
   "outputs": [],
   "source": [
    "# export\n",
    "def read_image(path: str, channels: int = 3):\n",
    "    \"\"\"Reads an image file from the path and return the rgb image in tf.Tensor format.\"\"\"\n",
    "    img: tf.Tensor = tf.io.read_file(path)\n",
    "    img: tf.Tensor = tf.io.decode_image(img,\n",
    "                                        channels=channels,\n",
    "                                        expand_animations=False)\n",
    "    return img\n",
    "\n",
    "\n",
    "def resize_image(image: tf.Tensor, size: Union[tf.Tensor, tuple], **kwargs):\n",
    "    \"\"\"Resize image to the target `size`: Union[tf.Tensor, tuple]\"\"\"\n",
    "    assert isinstance(\n",
    "        image,\n",
    "        tf.Tensor), f\"image must be of type tf.Tensor but passed {type(image)}\"\n",
    "    assert isinstance(size, (tuple, tf.Tensor))\n",
    "    method = kwargs.get(\"method\", \"bilinear\")\n",
    "    return tf.image.resize(image, size, method)\n",
    "\n",
    "\n",
    "def _url_to_image(url: str) -> Image.Image:\n",
    "    \"\"\"returns Image from url\"\"\"\n",
    "    assert url.lower().startswith(\"http\"), \"invalid url, must start with http\"\n",
    "    content = requests.get(url).content\n",
    "    image = Image.open(BytesIO(content))\n",
    "    return image"
   ]
  },
  {
   "cell_type": "code",
   "execution_count": null,
   "metadata": {},
   "outputs": [],
   "source": []
  },
  {
   "cell_type": "code",
   "execution_count": null,
   "metadata": {},
   "outputs": [],
   "source": []
  },
  {
   "cell_type": "code",
   "execution_count": null,
   "metadata": {},
   "outputs": [],
   "source": []
  },
  {
   "cell_type": "code",
   "execution_count": null,
   "metadata": {},
   "outputs": [],
   "source": [
    "#export\n",
    "class BoundingBoxes:\n",
    "\n",
    "    CENTER = \"XXYY\"\n",
    "    CORNER = \"XYXY\"\n",
    "\n",
    "    def __init__(self,\n",
    "                 bboxes: Optional[List[list]] = None,\n",
    "                 labels: Optional[List[Union[int, str]]] = None,\n",
    "                 format: str = 'xyxy'):\n",
    "        \"\"\"Args:\n",
    "            bboxes: list of bounding boxes [(x1, y1, x2, y2), ...] or [(xc, yc, h, w), ...]\n",
    "            labels: list of strings or integers\n",
    "            format: \n",
    "                - `xyxy` for corner points of bbox\n",
    "                - `xyhw` for x-center, y-center, height and width format of bbox\n",
    "        \"\"\"\n",
    "        assert format.upper() in (\n",
    "            self.CENTER,\n",
    "            self.CORNER), f\"bbox format must be either xyxy or xyhw\"\n",
    "        bboxes = self._listify(bboxes, 4)\n",
    "        labels = self._listify(labels)\n",
    "        assert len(bboxes) == len(\n",
    "            labels\n",
    "        ), f\"len of boxes and labels not matching: {len(bboxes), len(labels)}\"\n",
    "\n",
    "        self._format = format.upper()\n",
    "        self.bboxes = self._list_to_bbox(bboxes, labels)\n",
    "        self._state = {}\n",
    "\n",
    "    def _listify(self, item, dim_trigger=None):\n",
    "        if item is None:\n",
    "            return item\n",
    "\n",
    "        if not isinstance(item, (list, tuple)):\n",
    "            return [item]\n",
    "\n",
    "        if isinstance(item, (list, tuple)):\n",
    "            if self.num_dim(item) == dim_trigger:\n",
    "                item = [item]\n",
    "        return item\n",
    "\n",
    "    @staticmethod\n",
    "    def num_dim(item):\n",
    "        return len(item)\n",
    "\n",
    "    @staticmethod\n",
    "    def center_to_corner(cx, cy, h, w):\n",
    "        xmin = cx - w / 2\n",
    "        xmax = cx + w / 2\n",
    "        ymin = cy - h / 2\n",
    "        ymax = cy + h / 2\n",
    "\n",
    "        return xmin, ymin, xmax, ymax\n",
    "\n",
    "    @staticmethod\n",
    "    def corner_to_center(xmin, ymin, xmax, ymax):\n",
    "        w = xmax - xmin\n",
    "        h = ymax - ymin\n",
    "\n",
    "        cx = xmin + w / 2\n",
    "        cy = ymin + h / 2\n",
    "\n",
    "        return cx, cy, h, w\n",
    "\n",
    "    def _list_to_bbox(\n",
    "            self,\n",
    "            bbox_list: Optional[List[List[Union[int, float]]]],\n",
    "            labels: List[Union[str, int]] = None) -> List[BoundingBox]:\n",
    "        \"\"\"Converts bbox list into `imgaug BoundigBox` object\n",
    "        \"\"\"\n",
    "        format = self._format\n",
    "\n",
    "        if not bbox_list:\n",
    "            return None\n",
    "\n",
    "        if not labels:\n",
    "            labels = [None] * self.num_dim(bbox_list)\n",
    "\n",
    "        bbox_objects = []\n",
    "        for bbox, label in zip(bbox_list, labels):\n",
    "            if format == self.CENTER:\n",
    "                bbox = self.center_to_corner(*bbox)\n",
    "            bbox_objects.append(BoundingBox(*bbox, label))\n",
    "        return bbox_objects\n",
    "\n",
    "    def __getitem__(self, idx):\n",
    "        return self.bboxes[idx]\n",
    "\n",
    "    def __repr__(self):\n",
    "        return str(self.bboxes)\n",
    "\n",
    "    def get_bounding_boxes_on_image(self, image_shape):\n",
    "        \"\"\"returns `imgaug BoundingBoxesOnImage` object which can be used to boxes on the image\n",
    "        \"\"\"\n",
    "        return BoundingBoxesOnImage(self.bboxes, image_shape)"
   ]
  },
  {
   "cell_type": "code",
   "execution_count": null,
   "metadata": {},
   "outputs": [],
   "source": [
    "bboxes = BoundingBoxes([(1, 2, 3, 4), (5, 56, 7, 8)], ['aniket', None])"
   ]
  },
  {
   "cell_type": "code",
   "execution_count": null,
   "metadata": {},
   "outputs": [],
   "source": [
    "bboxes.get_bounding_boxes_on_image((224, 224, 3))"
   ]
  },
  {
   "cell_type": "code",
   "execution_count": null,
   "metadata": {},
   "outputs": [],
   "source": [
    "bboxes.bboxes"
   ]
  },
  {
   "cell_type": "code",
   "execution_count": null,
   "metadata": {},
   "outputs": [],
   "source": [
    "for bbox in bboxes:\n",
    "    print(bbox)"
   ]
  },
  {
   "cell_type": "code",
   "execution_count": null,
   "metadata": {},
   "outputs": [],
   "source": [
    "(bboxes)"
   ]
  },
  {
   "cell_type": "code",
   "execution_count": null,
   "metadata": {},
   "outputs": [],
   "source": [
    "list(zip([1, 2, 3, 4], []))"
   ]
  },
  {
   "cell_type": "code",
   "execution_count": null,
   "metadata": {},
   "outputs": [
    {
     "data": {
      "text/plain": [
       "[BoundingBox(x1=1.0000, y1=2.0000, x2=3.0000, y2=4.0000, label=aniket),\n",
       " BoundingBox(x1=5.0000, y1=8.0000, x2=7.0000, y2=56.0000, label=None)]"
      ]
     },
     "execution_count": null,
     "metadata": {},
     "output_type": "execute_result"
    }
   ],
   "source": [
    "bboxes.bboxes"
   ]
  },
  {
   "cell_type": "code",
   "execution_count": null,
   "metadata": {},
   "outputs": [],
   "source": []
  },
  {
   "cell_type": "code",
   "execution_count": null,
   "metadata": {},
   "outputs": [
    {
     "ename": "NameError",
     "evalue": "name 'BoundingBoxes' is not defined",
     "output_type": "error",
     "traceback": [
      "\u001b[0;31m---------------------------------------------------------------------------\u001b[0m",
      "\u001b[0;31mNameError\u001b[0m                                 Traceback (most recent call last)",
      "\u001b[0;32m<ipython-input-1-f16679b6e594>\u001b[0m in \u001b[0;36m<module>\u001b[0;34m\u001b[0m\n\u001b[1;32m      1\u001b[0m \u001b[0;31m# export\u001b[0m\u001b[0;34m\u001b[0m\u001b[0;34m\u001b[0m\u001b[0;34m\u001b[0m\u001b[0m\n\u001b[0;32m----> 2\u001b[0;31m \u001b[0;32mclass\u001b[0m \u001b[0mChitra\u001b[0m\u001b[0;34m:\u001b[0m\u001b[0;34m\u001b[0m\u001b[0;34m\u001b[0m\u001b[0m\n\u001b[0m\u001b[1;32m      3\u001b[0m     \"\"\"Ultimate image utility class.\n\u001b[1;32m      4\u001b[0m           \u001b[0;36m1.\u001b[0m \u001b[0mLoad\u001b[0m \u001b[0mimage\u001b[0m \u001b[0;32mfrom\u001b[0m \u001b[0mfile\u001b[0m\u001b[0;34m,\u001b[0m \u001b[0mweb\u001b[0m \u001b[0murl\u001b[0m\u001b[0;34m,\u001b[0m \u001b[0mnumpy\u001b[0m \u001b[0;32mor\u001b[0m \u001b[0mbytes\u001b[0m\u001b[0;34m\u001b[0m\u001b[0;34m\u001b[0m\u001b[0m\n\u001b[1;32m      5\u001b[0m           \u001b[0;36m2.\u001b[0m \u001b[0mPlot\u001b[0m \u001b[0mimage\u001b[0m\u001b[0;34m\u001b[0m\u001b[0;34m\u001b[0m\u001b[0m\n",
      "\u001b[0;32m<ipython-input-1-f16679b6e594>\u001b[0m in \u001b[0;36mChitra\u001b[0;34m()\u001b[0m\n\u001b[1;32m      7\u001b[0m     \"\"\"\n\u001b[1;32m      8\u001b[0m \u001b[0;34m\u001b[0m\u001b[0m\n\u001b[0;32m----> 9\u001b[0;31m     \u001b[0;32mdef\u001b[0m \u001b[0m__init__\u001b[0m\u001b[0;34m(\u001b[0m\u001b[0mself\u001b[0m\u001b[0;34m,\u001b[0m \u001b[0mdata\u001b[0m\u001b[0;34m,\u001b[0m \u001b[0mbboxes\u001b[0m\u001b[0;34m=\u001b[0m\u001b[0;32mNone\u001b[0m\u001b[0;34m,\u001b[0m \u001b[0mlabels\u001b[0m\u001b[0;34m=\u001b[0m\u001b[0;32mNone\u001b[0m\u001b[0;34m,\u001b[0m \u001b[0mformat\u001b[0m\u001b[0;34m=\u001b[0m\u001b[0mBoundingBoxes\u001b[0m\u001b[0;34m.\u001b[0m\u001b[0mCORNER\u001b[0m\u001b[0;34m,\u001b[0m \u001b[0;34m*\u001b[0m\u001b[0margs\u001b[0m\u001b[0;34m,\u001b[0m \u001b[0;34m**\u001b[0m\u001b[0mkwargs\u001b[0m\u001b[0;34m)\u001b[0m \u001b[0;34m->\u001b[0m \u001b[0;32mNone\u001b[0m\u001b[0;34m:\u001b[0m\u001b[0;34m\u001b[0m\u001b[0;34m\u001b[0m\u001b[0m\n\u001b[0m\u001b[1;32m     10\u001b[0m         \"\"\"Args:\n\u001b[1;32m     11\u001b[0m             \u001b[0mdata\u001b[0m\u001b[0;34m:\u001b[0m \u001b[0mnumpy\u001b[0m\u001b[0;34m,\u001b[0m \u001b[0murl\u001b[0m\u001b[0;34m,\u001b[0m \u001b[0mfilelike\u001b[0m\u001b[0;34m\u001b[0m\u001b[0;34m\u001b[0m\u001b[0m\n",
      "\u001b[0;31mNameError\u001b[0m: name 'BoundingBoxes' is not defined"
     ]
    }
   ],
   "source": [
    "# export\n",
    "class Chitra:\n",
    "    \"\"\"Ultimate image utility class.\n",
    "          1. Load image from file, web url, numpy or bytes\n",
    "          2. Plot image\n",
    "          3. Draw bounding boxes\n",
    "    \"\"\"\n",
    "\n",
    "    def __init__(self, data, bboxes=None, labels=None, format=BoundingBoxes.CORNER, *args, **kwargs) -> None:\n",
    "        \"\"\"Args:\n",
    "            data: numpy, url, filelike\n",
    "        \"\"\"\n",
    "        super().__init__()\n",
    "        self.image = self._load_image(data)\n",
    "        self.bboxes = None\n",
    "\n",
    "        if bboxes is not None:\n",
    "            self.bboxes = BoundingBoxes(bboxes, labels)\n",
    "\n",
    "    def _load_image(self, data: DATA_FORMATS):\n",
    "        if isinstance(data, Image.Image):\n",
    "            return data\n",
    "\n",
    "        if isinstance(data, (tf.Tensor, torch.Tensor)):\n",
    "            data = data.numpy()\n",
    "\n",
    "        if isinstance(data, str):\n",
    "            if data.startswith(\"http\"):\n",
    "                image = _url_to_image(data)\n",
    "            else:\n",
    "                image = Image.open(data)\n",
    "\n",
    "        elif isinstance(data, np.ndarray):\n",
    "            image = Image.fromarray(data)\n",
    "\n",
    "        else:\n",
    "            raise UserWarning(\"unable to load image!\")\n",
    "\n",
    "        return image\n",
    "\n",
    "    def numpy(self):\n",
    "        return np.asarray(self.image)\n",
    "\n",
    "    def to_tensor(self, mode: str = DEFAULT_MODE):\n",
    "        \"\"\"mode: tf/torch/pt\"\"\"\n",
    "        mode = mode.upper()\n",
    "        np_image = self.numpy()\n",
    "        tensor = None\n",
    "\n",
    "        if mode == \"TF\":\n",
    "            tensor = tf.constant(np_image)\n",
    "        elif mode in (\"TORCH\", \"PT\"):\n",
    "            tensor = torch.from_numpy(np_image)\n",
    "        else:\n",
    "            raise UserWarning(\"invalid mode!\")\n",
    "        return tensor\n",
    "\n",
    "    @property\n",
    "    def shape(self):\n",
    "        return self.numpy().shape\n",
    "\n",
    "    @property\n",
    "    def size(self):\n",
    "        return self.image.size\n",
    "\n",
    "    def imshow(self, cmap=plt.cm.Blues, *args, **kwargs):\n",
    "        plt.imshow(self.numpy(), cmap, *args, **kwargs)\n",
    "\n",
    "    def draw_boxes(\n",
    "            self,\n",
    "            marker_size: int = 2,\n",
    "            color=(0, 255, 0),\n",
    "    ):\n",
    "        if self.bboxes is None:\n",
    "            raise UserWarning('bboxes is None')\n",
    "\n",
    "        bbox_on_image = self.bboxes.get_bounding_boxes_on_image(self.shape)\n",
    "        return bbox_on_image.draw_on_image(self.numpy(),\n",
    "                                           color=color,\n",
    "                                           size=marker_size)"
   ]
  },
  {
   "cell_type": "code",
   "execution_count": null,
   "metadata": {},
   "outputs": [
    {
     "data": {
      "text/plain": [
       "\u001b[0;31mInit signature:\u001b[0m \u001b[0mChitra\u001b[0m\u001b[0;34m(\u001b[0m\u001b[0mdata\u001b[0m\u001b[0;34m,\u001b[0m \u001b[0mbboxes\u001b[0m\u001b[0;34m=\u001b[0m\u001b[0;32mNone\u001b[0m\u001b[0;34m,\u001b[0m \u001b[0mlabels\u001b[0m\u001b[0;34m=\u001b[0m\u001b[0;32mNone\u001b[0m\u001b[0;34m,\u001b[0m \u001b[0;34m*\u001b[0m\u001b[0margs\u001b[0m\u001b[0;34m,\u001b[0m \u001b[0;34m**\u001b[0m\u001b[0mkwargs\u001b[0m\u001b[0;34m)\u001b[0m \u001b[0;34m->\u001b[0m \u001b[0;32mNone\u001b[0m\u001b[0;34m\u001b[0m\u001b[0;34m\u001b[0m\u001b[0m\n",
       "\u001b[0;31mDocstring:\u001b[0m     \n",
       "Ultimate image utility class.\n",
       "1. Load image from file, web url, numpy or bytes\n",
       "2. Plot image\n",
       "3. Draw bounding boxes\n",
       "\u001b[0;31mInit docstring:\u001b[0m\n",
       "Args:\n",
       "data: numpy, url, filelike\n",
       "\u001b[0;31mType:\u001b[0m           type\n",
       "\u001b[0;31mSubclasses:\u001b[0m     \n"
      ]
     },
     "metadata": {},
     "output_type": "display_data"
    }
   ],
   "source": [
    "?Chitra"
   ]
  },
  {
   "cell_type": "code",
   "execution_count": null,
   "metadata": {},
   "outputs": [],
   "source": [
    "url = \"https://upload.wikimedia.org/wikipedia/commons/thumb/b/b6/Image_created_with_a_mobile_phone.png/1200px-Image_created_with_a_mobile_phone.png\""
   ]
  },
  {
   "cell_type": "code",
   "execution_count": null,
   "metadata": {},
   "outputs": [],
   "source": [
    "b = [[600, 250, 900, 600.1]]\n",
    "l = ['hand']\n",
    "image = Chitra(url, b, l)\n",
    "image.image = image.image.convert('RGB')"
   ]
  },
  {
   "cell_type": "code",
   "execution_count": null,
   "metadata": {},
   "outputs": [],
   "source": [
    "# Image.fromarray(image.draw_boxes(1, color=(255, 100, 20)))"
   ]
  },
  {
   "cell_type": "code",
   "execution_count": null,
   "metadata": {},
   "outputs": [],
   "source": []
  },
  {
   "cell_type": "code",
   "execution_count": null,
   "metadata": {},
   "outputs": [],
   "source": []
  },
  {
   "cell_type": "code",
   "execution_count": null,
   "metadata": {},
   "outputs": [],
   "source": []
  },
  {
   "cell_type": "code",
   "execution_count": null,
   "metadata": {},
   "outputs": [],
   "source": []
  },
  {
   "cell_type": "code",
   "execution_count": null,
   "metadata": {},
   "outputs": [],
   "source": []
  },
  {
   "cell_type": "code",
   "execution_count": null,
   "metadata": {},
   "outputs": [],
   "source": []
  },
  {
   "cell_type": "code",
   "execution_count": null,
   "metadata": {},
   "outputs": [],
   "source": []
  },
  {
   "cell_type": "code",
   "execution_count": null,
   "metadata": {},
   "outputs": [],
   "source": []
  },
  {
   "cell_type": "code",
   "execution_count": null,
   "metadata": {},
   "outputs": [],
   "source": []
  },
  {
   "cell_type": "markdown",
   "metadata": {},
   "source": [
    "https://upload.wikimedia.org/wikipedia/commons/thumb/b/b6/Image_created_with_a_mobile_phone.png/1200px-Image_created_with_a_mobile_phone.png"
   ]
  }
 ],
 "metadata": {
  "kernelspec": {
   "display_name": "Python 3",
   "language": "python",
   "name": "python3"
  }
 },
 "nbformat": 4,
 "nbformat_minor": 4
}
