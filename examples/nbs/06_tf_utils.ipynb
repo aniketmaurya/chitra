{
 "cells": [
  {
   "cell_type": "code",
   "execution_count": null,
   "metadata": {},
   "outputs": [],
   "source": [
    "# default_exp utility.tf_utils"
   ]
  },
  {
   "cell_type": "markdown",
   "metadata": {},
   "source": [
    "# tf_utils\n",
    "\n",
    "> API details."
   ]
  },
  {
   "cell_type": "code",
   "execution_count": null,
   "metadata": {},
   "outputs": [],
   "source": [
    "#hide\n",
    "from nbdev.showdoc import *"
   ]
  },
  {
   "cell_type": "code",
   "execution_count": null,
   "metadata": {},
   "outputs": [],
   "source": [
    "#export\n",
    "import tensorflow as tf\n",
    "import os"
   ]
  },
  {
   "cell_type": "code",
   "execution_count": null,
   "metadata": {},
   "outputs": [],
   "source": [
    "#export\n",
    "def disable_gpu():\n",
    "    \"\"\"\n",
    "    disable gpu for tensorflow\n",
    "    \"\"\"\n",
    "    os.environ[\"CUDA_DEVICE_ORDER\"] = \"PCI_BUS_ID\"\n",
    "    os.environ[\"CUDA_VISIBLE_DEVICES\"] = str(-1)\n",
    "\n",
    "\n",
    "#export\n",
    "def limit_gpu(gpu_id: str, memory_limit:int):\n",
    "    \"\"\"\n",
    "    limit the selected gpu [gpu_id] by [memory_limit] MB\n",
    "    \"\"\"\n",
    "    os.environ[\"CUDA_DEVICE_ORDER\"] = \"PCI_BUS_ID\"\n",
    "    os.environ[\"CUDA_VISIBLE_DEVICES\"] = str(gpu_id)\n",
    "    gpus = tf.config.list_physical_devices('GPU')\n",
    "    \n",
    "    if gpus:\n",
    "        # Restrict TensorFlow to only allocate [memory MB] of memory on the first GPU\n",
    "        try:\n",
    "            tf.config.experimental.set_virtual_device_configuration(\n",
    "                gpus[0], [\n",
    "                    tf.config.experimental.VirtualDeviceConfiguration(\n",
    "                        memory_limit=memory_limit)\n",
    "                ])\n",
    "            logical_gpus = tf.config.list_logical_devices('GPU')\n",
    "            print(len(gpus), \"Physical GPUs,\", len(logical_gpus), \"Logical GPUs\")\n",
    "        except RuntimeError as e:\n",
    "            # Virtual devices must be set before GPUs have been initialized\n",
    "            print(e)\n",
    "    else:\n",
    "        print(f'No GPU:{gpu_id} found in your system!')\n",
    "        \n"
   ]
  },
  {
   "cell_type": "code",
   "execution_count": null,
   "metadata": {},
   "outputs": [],
   "source": [
    "limit_gpu(1, 1024*8)"
   ]
  },
  {
   "cell_type": "code",
   "execution_count": null,
   "metadata": {},
   "outputs": [],
   "source": [
    "#export\n",
    "def gpu_dynamic_mem_growth():\n",
    "    \"\"\"\n",
    "    Borrowed from https://github.com/philipperemy/keract/tree/master/examples\n",
    "    \"\"\"\n",
    "    # Check for GPUs and set them to dynamically grow memory as needed\n",
    "    # Avoids OOM from tensorflow greedily allocating GPU memory\n",
    "    try:\n",
    "        gpu_devices = tf.config.list_physical_devices('GPU')\n",
    "        if len(gpu_devices) > 0:\n",
    "            for gpu in gpu_devices:\n",
    "                tf.config.experimental.set_memory_growth(gpu, True)\n",
    "            print('GPU dynamic memory growth enabled')\n",
    "        else: print('No GPU found on the machine!')        \n",
    "    except AttributeError:\n",
    "        print('Upgrade your tensorflow to 2.x to have the gpu_dynamic_mem_growth feature.')"
   ]
  },
  {
   "cell_type": "code",
   "execution_count": null,
   "metadata": {},
   "outputs": [],
   "source": [
    "gpu_dynamic_mem_growth()"
   ]
  },
  {
   "cell_type": "code",
   "execution_count": null,
   "metadata": {},
   "outputs": [],
   "source": [
    "from nbdev.export import notebook2script;notebook2script('05_utils.ipynb')"
   ]
  },
  {
   "cell_type": "code",
   "execution_count": null,
   "metadata": {},
   "outputs": [],
   "source": []
  },
  {
   "cell_type": "code",
   "execution_count": null,
   "metadata": {},
   "outputs": [],
   "source": []
  },
  {
   "cell_type": "code",
   "execution_count": null,
   "metadata": {},
   "outputs": [],
   "source": []
  },
  {
   "cell_type": "code",
   "execution_count": null,
   "metadata": {},
   "outputs": [],
   "source": []
  },
  {
   "cell_type": "code",
   "execution_count": null,
   "metadata": {},
   "outputs": [],
   "source": []
  },
  {
   "cell_type": "code",
   "execution_count": null,
   "metadata": {},
   "outputs": [],
   "source": []
  }
 ],
 "metadata": {
  "kernelspec": {
   "display_name": "Python 3",
   "language": "python",
   "name": "python3"
  }
 },
 "nbformat": 4,
 "nbformat_minor": 4
}
