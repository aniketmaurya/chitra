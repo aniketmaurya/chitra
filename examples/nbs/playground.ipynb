{
 "cells": [
  {
   "cell_type": "code",
   "execution_count": null,
   "id": "98c7343d-dc6a-4f75-95bd-722f1e415cd1",
   "metadata": {},
   "outputs": [],
   "source": [
    "import optuna"
   ]
  },
  {
   "cell_type": "code",
   "execution_count": null,
   "id": "a8c3ada9-5e5a-4936-9407-5b7a88947ff8",
   "metadata": {},
   "outputs": [],
   "source": [
    "study = optuna.create_study(pruner=optuna.pruners.MedianPruner())"
   ]
  },
  {
   "cell_type": "code",
   "execution_count": null,
   "id": "6eee0989-da5a-448f-a6bd-5a325adde7fc",
   "metadata": {},
   "outputs": [],
   "source": [
    "study.create()"
   ]
  },
  {
   "cell_type": "code",
   "execution_count": null,
   "id": "d044465c-f308-49b1-b827-33337b111182",
   "metadata": {},
   "outputs": [],
   "source": []
  }
 ],
 "metadata": {
  "kernelspec": {
   "display_name": "Python 3",
   "language": "python",
   "name": "python3"
  },
  "language_info": {
   "codemirror_mode": {
    "name": "ipython",
    "version": 3
   },
   "file_extension": ".py",
   "mimetype": "text/x-python",
   "name": "python",
   "nbconvert_exporter": "python",
   "pygments_lexer": "ipython3",
   "version": "3.7.10"
  }
 },
 "nbformat": 4,
 "nbformat_minor": 5
}
