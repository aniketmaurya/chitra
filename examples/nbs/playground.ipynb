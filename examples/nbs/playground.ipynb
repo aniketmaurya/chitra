{
 "cells": [
  {
   "cell_type": "code",
   "execution_count": null,
   "id": "24d6e10b-ebc0-485e-888b-203f1c0b5e27",
   "metadata": {},
   "outputs": [],
   "source": [
    "import sys"
   ]
  },
  {
   "cell_type": "code",
   "execution_count": null,
   "id": "e67b47e3-3195-479f-8e18-8d9e0c3ef772",
   "metadata": {},
   "outputs": [],
   "source": [
    "sys.path.append('../')"
   ]
  },
  {
   "cell_type": "code",
   "execution_count": null,
   "id": "bfab49a8-55df-4212-a34f-3422619cf5c7",
   "metadata": {},
   "outputs": [],
   "source": [
    "from chitra.serve import create_api"
   ]
  },
  {
   "cell_type": "code",
   "execution_count": null,
   "id": "e0c57137-c3e3-4e49-8be4-8dd3919e85c7",
   "metadata": {},
   "outputs": [],
   "source": [
    "model = lambda x: x+1"
   ]
  },
  {
   "cell_type": "code",
   "execution_count": null,
   "id": "6735c42d-5bbc-46a1-9048-a856ae6f7597",
   "metadata": {},
   "outputs": [],
   "source": [
    "create_api(model, run=True)"
   ]
  },
  {
   "cell_type": "code",
   "execution_count": null,
   "id": "9883733f-dd68-4f4c-b7b7-5696d5c18451",
   "metadata": {},
   "outputs": [],
   "source": []
  },
  {
   "cell_type": "code",
   "execution_count": null,
   "id": "8d8b37ad-45ae-4d02-87d8-8d9ed2a7ba5d",
   "metadata": {},
   "outputs": [],
   "source": []
  },
  {
   "cell_type": "code",
   "execution_count": null,
   "id": "0b86260f-0aa5-4943-938a-44a0d25b7588",
   "metadata": {},
   "outputs": [],
   "source": []
  },
  {
   "cell_type": "code",
   "execution_count": null,
   "id": "8b7239bc-c4f1-42f9-8678-0ecf9424b939",
   "metadata": {},
   "outputs": [],
   "source": []
  }
 ],
 "metadata": {
  "kernelspec": {
   "display_name": "Python 3",
   "language": "python",
   "name": "python3"
  }
 },
 "nbformat": 4,
 "nbformat_minor": 5
}
