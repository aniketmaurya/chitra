{
 "cells": [
  {
   "cell_type": "code",
   "execution_count": null,
   "id": "24d6e10b-ebc0-485e-888b-203f1c0b5e27",
   "metadata": {},
   "outputs": [],
   "source": [
    "import sys"
   ]
  },
  {
   "cell_type": "code",
   "execution_count": null,
   "id": "e67b47e3-3195-479f-8e18-8d9e0c3ef772",
   "metadata": {},
   "outputs": [],
   "source": [
    "sys.path.append('../')"
   ]
  },
  {
   "cell_type": "code",
   "execution_count": null,
   "id": "bfab49a8-55df-4212-a34f-3422619cf5c7",
   "metadata": {},
   "outputs": [],
   "source": [
    "from chitra.serve import create_api"
   ]
  },
  {
   "cell_type": "code",
   "execution_count": null,
   "id": "e0c57137-c3e3-4e49-8be4-8dd3919e85c7",
   "metadata": {},
   "outputs": [],
   "source": [
    "model = lambda x: x+1"
   ]
  },
  {
   "cell_type": "code",
   "execution_count": null,
   "id": "6735c42d-5bbc-46a1-9048-a856ae6f7597",
   "metadata": {},
   "outputs": [],
   "source": [
    "create_api(model, run=True)"
   ]
  },
  {
   "cell_type": "code",
   "execution_count": null,
   "id": "9883733f-dd68-4f4c-b7b7-5696d5c18451",
   "metadata": {},
   "outputs": [],
   "source": []
  },
  {
   "cell_type": "code",
   "execution_count": null,
   "id": "8d8b37ad-45ae-4d02-87d8-8d9ed2a7ba5d",
   "metadata": {},
   "outputs": [],
   "source": [
    "import tempfile"
   ]
  },
  {
   "cell_type": "code",
   "execution_count": null,
   "id": "2ec7209b-cba5-48ea-8993-8d5b31b53165",
   "metadata": {},
   "outputs": [],
   "source": [
    "import os\n",
    "import tempfile\n",
    "from contextlib import contextmanager\n",
    "\n",
    "from typing import Optional"
   ]
  },
  {
   "cell_type": "code",
   "execution_count": null,
   "id": "0b86260f-0aa5-4943-938a-44a0d25b7588",
   "metadata": {},
   "outputs": [],
   "source": [
    "def str_to_file(text: str):\n",
    "    temp = None\n",
    "    try:\n",
    "        temp = tempfile.NamedTemporaryFile(mode='w+', encoding='utf-8', delete=False)\n",
    "        temp.write(text)\n",
    "        return temp\n",
    "    finally:\n",
    "        temp.close()"
   ]
  },
  {
   "cell_type": "code",
   "execution_count": null,
   "id": "8b7239bc-c4f1-42f9-8678-0ecf9424b939",
   "metadata": {},
   "outputs": [],
   "source": [
    "with str_to_file('rfa') as r:\n",
    "    print(r.name)\n",
    "    "
   ]
  },
  {
   "cell_type": "code",
   "execution_count": null,
   "id": "76483dfe-4e09-4b0d-b224-42c80abf751f",
   "metadata": {},
   "outputs": [],
   "source": [
    "import os\n",
    "import tempfile\n",
    "from typing import Optional\n",
    "\n",
    "COPY_PL = \"COPY_PL\"\n",
    "PORT_PL = \"PORT_PL\"\n",
    "\n",
    "GUNICORN_DEFAULT_CONF = \"\"\"\n",
    "import multiprocessing\n",
    "\n",
    "workers = multiprocessing.cpu_count()\n",
    "\"\"\"\n",
    "\n",
    "DOCKER_FILE = f\"\"\"\n",
    "FROM python:3.7\n",
    "\n",
    "LABEL maintainer=\"Aniket Maurya <theaniketmaurya@gmail.com>\"\n",
    "\n",
    "RUN pip install --no-cache-dir \"chitra[serve]\" gunicorn\n",
    "\n",
    "{COPY_PL}\n",
    "\n",
    "EXPOSE PORT_PL\n",
    "\n",
    "ENTRYPOINT gunicorn -c gunicorn_conf.py api:app\n",
    "\n",
    "\"\"\"\n",
    "\n",
    "\n",
    "def str_to_file(text: str):\n",
    "    temp = tempfile.NamedTemporaryFile(mode=\"w+\", encoding=\"utf-8\", delete=False)\n",
    "    temp.write(text)\n",
    "    return temp\n",
    "\n",
    "\n",
    "def dockerize_api(\n",
    "    source_path: str, gunicorn_conf_path: Optional[str] = None, port: str = \"8080\"\n",
    "):\n",
    "    if gunicorn_conf_path is None:\n",
    "        gunicorn_conf_path = str_to_file(GUNICORN_DEFAULT_CONF).name\n",
    "\n",
    "    if not os.path.exists(gunicorn_conf_path):\n",
    "        raise FileNotFoundError(\n",
    "            f\"gunicorn_conf_path not found at - {gunicorn_conf_path}\"\n",
    "        )\n",
    "\n",
    "    if not os.path.exists(source_path):\n",
    "        raise FileNotFoundError(\n",
    "            \"You must provide the folder/file path of your Serving code\"\n",
    "        )\n",
    "\n",
    "    copy_cmd = (\n",
    "        f\"COPY {source_path} ./ \\n\" + f\"COPY {gunicorn_conf_path} ./gunicorn_conf.py\"\n",
    "    )\n",
    "\n",
    "    copy_cmd = copy_cmd.strip()\n",
    "    docker_cmd = DOCKER_FILE[:]\n",
    "    docker_cmd = docker_cmd.replace(COPY_PL, copy_cmd)\n",
    "    docker_cmd = docker_cmd.replace(PORT_PL, port)\n",
    "\n",
    "    return docker_cmd\n"
   ]
  },
  {
   "cell_type": "code",
   "execution_count": null,
   "id": "b7465841-f68c-40d3-b688-c3241704bd3b",
   "metadata": {},
   "outputs": [],
   "source": [
    "print(dockerize_api('./'))"
   ]
  },
  {
   "cell_type": "code",
   "execution_count": null,
   "id": "c0e02c80-ff00-4c35-8bdf-4bb2a37a8dbf",
   "metadata": {},
   "outputs": [],
   "source": []
  },
  {
   "cell_type": "code",
   "execution_count": null,
   "id": "745588c4-5e4c-40e9-bc2c-b515993d8bb8",
   "metadata": {},
   "outputs": [],
   "source": []
  }
 ],
 "metadata": {
  "kernelspec": {
   "display_name": "Python 3",
   "language": "python",
   "name": "python3"
  },
  "language_info": {
   "codemirror_mode": {
    "name": "ipython",
    "version": 3
   },
   "file_extension": ".py",
   "mimetype": "text/x-python",
   "name": "python",
   "nbconvert_exporter": "python",
   "pygments_lexer": "ipython3",
   "version": "3.7.10"
  }
 },
 "nbformat": 4,
 "nbformat_minor": 5
}
