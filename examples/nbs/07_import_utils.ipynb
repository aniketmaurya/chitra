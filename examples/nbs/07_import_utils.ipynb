{
 "cells": [
  {
   "cell_type": "code",
   "execution_count": null,
   "id": "everyday-mortgage",
   "metadata": {},
   "outputs": [],
   "source": [
    "# default_exp utility.import_utils"
   ]
  },
  {
   "cell_type": "markdown",
   "id": "industrial-tablet",
   "metadata": {},
   "source": [
    "# import_utils\n",
    "\n",
    "> API details."
   ]
  },
  {
   "cell_type": "code",
   "execution_count": null,
   "id": "mental-refrigerator",
   "metadata": {},
   "outputs": [],
   "source": [
    "# hide\n",
    "from nbdev.showdoc import *"
   ]
  },
  {
   "cell_type": "code",
   "execution_count": null,
   "id": "naval-sucking",
   "metadata": {},
   "outputs": [],
   "source": [
    "# export\n",
    "import importlib"
   ]
  },
  {
   "cell_type": "code",
   "execution_count": null,
   "id": "sorted-lighter",
   "metadata": {},
   "outputs": [],
   "source": [
    "# export\n",
    "def is_installed(module_name: str):\n",
    "    return importlib.util.find_spec(module_name) is not None\n",
    "\n",
    "\n",
    "_TF = \"tensorflow\"\n",
    "_TF_GPU = \"tensorflow-gpu\"\n",
    "_TORCH = \"torch\"\n",
    "_TORCHVISION = \"torchvision\"\n",
    "_JAX = \"jax\"\n",
    "_FLAX = \"flax\"\n",
    "\n",
    "\n",
    "INSTALLED_MODULES = {\n",
    "    module: is_installed(module)\n",
    "    for module in (_TF, _TF_GPU, _TORCH, _TORCHVISION, _JAX, _FLAX)\n",
    "}"
   ]
  },
  {
   "cell_type": "code",
   "execution_count": null,
   "id": "effective-refrigerator",
   "metadata": {},
   "outputs": [],
   "source": [
    "_ONNX = is_installed(\"onnx\")\n",
    "_ONNXMLTOOLS = is_installed(\"onnxmltools\")"
   ]
  },
  {
   "cell_type": "code",
   "execution_count": null,
   "id": "received-apartment",
   "metadata": {},
   "outputs": [],
   "source": [
    "import torch.onnx"
   ]
  },
  {
   "cell_type": "code",
   "execution_count": null,
   "id": "welcome-chemical",
   "metadata": {},
   "outputs": [],
   "source": [
    "import timm"
   ]
  },
  {
   "cell_type": "code",
   "execution_count": null,
   "id": "decreased-document",
   "metadata": {},
   "outputs": [],
   "source": [
    "torch_model = timm.create_model(\"resnet18\")\n",
    "torch_model.eval()\n",
    "print()"
   ]
  },
  {
   "cell_type": "code",
   "execution_count": null,
   "id": "trained-lloyd",
   "metadata": {},
   "outputs": [],
   "source": [
    "# Input to the model\n",
    "x = torch.randn(1, 3, 224, 224, requires_grad=True)\n",
    "torch_out = torch_model(x)\n",
    "\n",
    "# Export the model\n",
    "torch.onnx.export(torch_model,               # model being run\n",
    "                  x,                         # model input (or a tuple for multiple inputs)\n",
    "                  \"temp.onnx\",   # where to save the model (can be a file or file-like object)\n",
    "                  export_params=True,        # store the trained parameter weights inside the model file\n",
    "                  opset_version=10,          # the ONNX version to export the model to\n",
    "                  do_constant_folding=True,  # whether to execute constant folding for optimization\n",
    "                  input_names = ['input'],   # the model's input names\n",
    "                  output_names = ['output'], # the model's output names\n",
    "                  dynamic_axes={'input' : {0 : 'batch_size'},    # variable length axes\n",
    "                                'output' : {0 : 'batch_size'}})"
   ]
  },
  {
   "cell_type": "code",
   "execution_count": null,
   "id": "surface-lesson",
   "metadata": {},
   "outputs": [],
   "source": [
    "import onnx\n",
    "from onnx2pytorch import ConvertModel\n",
    "\n",
    "onnx_model = onnx.load('temp.onnx')\n",
    "onnx.checker.check_model(onnx_model)\n",
    "pytorch_model = ConvertModel(onnx_model)"
   ]
  },
  {
   "cell_type": "code",
   "execution_count": null,
   "id": "artificial-stanley",
   "metadata": {},
   "outputs": [],
   "source": [
    "import numpy as np\n",
    "np.allclose(pytorch_model(x).detach().numpy(), torch_out.detach().numpy(), 1e-4)"
   ]
  },
  {
   "cell_type": "code",
   "execution_count": null,
   "id": "multiple-winter",
   "metadata": {},
   "outputs": [],
   "source": []
  },
  {
   "cell_type": "code",
   "execution_count": null,
   "id": "lesbian-luther",
   "metadata": {},
   "outputs": [],
   "source": []
  },
  {
   "cell_type": "code",
   "execution_count": null,
   "id": "external-command",
   "metadata": {},
   "outputs": [],
   "source": []
  },
  {
   "cell_type": "code",
   "execution_count": null,
   "id": "basic-classics",
   "metadata": {},
   "outputs": [],
   "source": []
  },
  {
   "cell_type": "code",
   "execution_count": null,
   "id": "combined-moscow",
   "metadata": {},
   "outputs": [],
   "source": []
  }
 ],
 "metadata": {
  "kernelspec": {
   "display_name": "Python 3",
   "language": "python",
   "name": "python3"
  }
 },
 "nbformat": 4,
 "nbformat_minor": 5
}
