{
 "cells": [
  {
   "cell_type": "code",
   "execution_count": null,
   "id": "30596049-1933-41e9-b189-9ab00f918116",
   "metadata": {},
   "outputs": [],
   "source": [
    "import io\n",
    "\n",
    "import numpy as np\n",
    "import torch\n",
    "from chitra.core import load_imagenet_labels\n",
    "from chitra.serve.cloud.aws_serverless import ChaliceServer\n",
    "from smart_open import open as smart_open\n",
    "from timm import create_model, list_models"
   ]
  },
  {
   "cell_type": "code",
   "execution_count": null,
   "id": "25ce4031-9696-4f9e-bf81-7d1e8624e562",
   "metadata": {},
   "outputs": [],
   "source": [
    "import boto3\n",
    "\n",
    "s3 = boto3.client('s3')"
   ]
  },
  {
   "cell_type": "code",
   "execution_count": null,
   "id": "67b705a4-6221-44b4-8638-c45a6c6281db",
   "metadata": {},
   "outputs": [],
   "source": [
    "def model_loader(buffer: io.BytesIO)-> torch.nn.Module:\n",
    "    model: torch.nn.Module = create_model('efficientnet_b0', pretrained=False)\n",
    "    model.load_state_dict(torch.load(buffer))\n",
    "    return model"
   ]
  },
  {
   "cell_type": "code",
   "execution_count": null,
   "id": "4e088dc0-49a2-4081-91a2-6d41b45ed7b2",
   "metadata": {},
   "outputs": [],
   "source": [
    "BUCKET = 'gflow-models'\n",
    "FILE_OBJ = 'efficientnet_b0.pth'\n",
    "MODEL_PATH = \"s3://gflow-models/efficientnet_b0.pth\""
   ]
  },
  {
   "cell_type": "code",
   "execution_count": null,
   "id": "5756afb5-963e-4f99-997b-263dd7795c8f",
   "metadata": {},
   "outputs": [],
   "source": [
    "server = ChaliceServer('image-classification',\n",
    "                       MODEL_PATH,\n",
    "                       model_loader=model_loader)"
   ]
  },
  {
   "cell_type": "code",
   "execution_count": null,
   "id": "8b3a86e5-1d2f-46c7-8e68-d7da76652ccc",
   "metadata": {},
   "outputs": [],
   "source": [
    "server.run('route')"
   ]
  },
  {
   "cell_type": "code",
   "execution_count": null,
   "id": "f2a4956d-ce59-4f25-a5a4-929dc7da2d6c",
   "metadata": {},
   "outputs": [],
   "source": []
  },
  {
   "cell_type": "code",
   "execution_count": null,
   "id": "c760e259-82e9-4bfc-a2d8-7e4b14684bc1",
   "metadata": {},
   "outputs": [],
   "source": []
  },
  {
   "cell_type": "code",
   "execution_count": null,
   "id": "0cd48a18-b989-4699-a080-efd64f38b363",
   "metadata": {},
   "outputs": [],
   "source": [
    "from chitra.image import Chitra"
   ]
  },
  {
   "cell_type": "code",
   "execution_count": null,
   "id": "f5a448e6-5ce4-45ad-a0bc-a87878900cb5",
   "metadata": {},
   "outputs": [],
   "source": [
    "LABELS = load_imagenet_labels()"
   ]
  },
  {
   "cell_type": "code",
   "execution_count": null,
   "id": "c6feb93c-be27-403f-a1d4-4370ef0c7b58",
   "metadata": {},
   "outputs": [],
   "source": [
    "model = create_model(\n",
    "    'efficientnet_b0',\n",
    "    pretrained=True,\n",
    "    checkpoint_path='./efficientnet_b0_ra-3dd342df.pth').eval()"
   ]
  },
  {
   "cell_type": "code",
   "execution_count": null,
   "id": "3ea121da-f2df-47c0-a09a-3d474752d321",
   "metadata": {},
   "outputs": [],
   "source": []
  },
  {
   "cell_type": "code",
   "execution_count": null,
   "id": "1910c175-8fe1-4b97-868b-38bb927b58bc",
   "metadata": {},
   "outputs": [],
   "source": [
    "image = Chitra(\n",
    "    \"https://ichef.bbci.co.uk/news/976/cpsprodpb/67CF/production/_108857562_mediaitem108857561.jpg\"\n",
    ")\n",
    "image.resize((256, 256))"
   ]
  },
  {
   "cell_type": "code",
   "execution_count": null,
   "id": "77eba50d-bb2a-47a1-96a9-4cbefd998b45",
   "metadata": {},
   "outputs": [],
   "source": [
    "x = image.numpy().astype(np.float32)\n",
    "x = x / 255.\n",
    "x = torch.from_numpy(x)\n",
    "\n",
    "LABELS[model(x.permute(2, 0, 1).unsqueeze(0)).argmax(1)]"
   ]
  },
  {
   "cell_type": "code",
   "execution_count": null,
   "id": "dcbb7d46-0c4f-4ada-9a80-65e3939950a8",
   "metadata": {},
   "outputs": [],
   "source": []
  },
  {
   "cell_type": "code",
   "execution_count": null,
   "id": "e792f044-66d1-47c4-b28b-552800fe45fe",
   "metadata": {},
   "outputs": [],
   "source": [
    "# https://github.com/rwightman/pytorch-image-models/releases/download/v0.1-weights/efficientnet_b0_ra-3dd342df.pth"
   ]
  },
  {
   "cell_type": "code",
   "execution_count": null,
   "id": "5e939c1e-53b5-416f-910f-b00e3726244b",
   "metadata": {},
   "outputs": [],
   "source": [
    "ls /Users/aniket/.cache/torch/hub/checkpoints/efficient*"
   ]
  },
  {
   "cell_type": "code",
   "execution_count": null,
   "id": "a8c3ada9-5e5a-4936-9407-5b7a88947ff8",
   "metadata": {},
   "outputs": [],
   "source": [
    "create_model('efficientnet_b1', pretrained=True)"
   ]
  },
  {
   "cell_type": "code",
   "execution_count": null,
   "id": "6eee0989-da5a-448f-a6bd-5a325adde7fc",
   "metadata": {},
   "outputs": [],
   "source": []
  },
  {
   "cell_type": "code",
   "execution_count": null,
   "id": "d044465c-f308-49b1-b827-33337b111182",
   "metadata": {},
   "outputs": [],
   "source": []
  }
 ],
 "metadata": {
  "kernelspec": {
   "display_name": "Python 3",
   "language": "python",
   "name": "python3"
  },
  "language_info": {
   "codemirror_mode": {
    "name": "ipython",
    "version": 3
   },
   "file_extension": ".py",
   "mimetype": "text/x-python",
   "name": "python",
   "nbconvert_exporter": "python",
   "pygments_lexer": "ipython3",
   "version": "3.7.10"
  }
 },
 "nbformat": 4,
 "nbformat_minor": 5
}
